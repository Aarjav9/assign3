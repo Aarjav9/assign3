{
 "cells": [
  {
   "cell_type": "code",
   "execution_count": null,
   "id": "ed5445e1-a620-4d03-a2cf-2e802ad85a68",
   "metadata": {},
   "outputs": [],
   "source": [
    "# Q1\n",
    "class Vehicle:\n",
    "\n",
    "    def __init__(self, name_of_vehicle, max_speed, average_of_vehicle):\n",
    "        self.name_of_vehicle = name_of_vehicle\n",
    "        self.max_speed = max_speed\n",
    "        self.average_of_vehicle. = average_of_vehicle.\n",
    "        \n",
    "# Q2 \n",
    "    \n",
    "    def seating_capacity(self, capacity):\n",
    "        return f\"The seating capacity of a {self.name_of_vehicle} is {capacity} passengers\""
   ]
  },
  {
   "cell_type": "code",
   "execution_count": null,
   "id": "2b58082d-d2d3-403c-8bbc-3e8cf7f6aba0",
   "metadata": {},
   "outputs": [],
   "source": [
    "# Q3\n",
    "# A class can be derived from more than one superclass ,is called multiple inheritance in python.\n",
    "class Mammal:\n",
    "    def mammal_info(self):\n",
    "        print(\"direct birth.\")\n",
    "\n",
    "class WingedAnimal:\n",
    "    def winged_animal_info(self):\n",
    "        print(\"can flap.\")\n",
    "\n",
    "class Bat(Mammal, WingedAnimal):\n",
    "    pass"
   ]
  },
  {
   "cell_type": "code",
   "execution_count": null,
   "id": "177a4453-cb45-4717-8024-6dccc94754e2",
   "metadata": {},
   "outputs": [],
   "source": [
    "# Q4\n",
    "# A method that allows you to access an attribute in a given class is called getter.\n",
    "# A method that allows you to set or mutate the value of an attribute in a class is called setter.\n",
    "class Name:\n",
    "    def __init__(self, age = 0):\n",
    "         self._age = age\n",
    " \n",
    "    def get_age(self):\n",
    "        return self._age\n",
    "      \n",
    "    def set_age(self, x):\n",
    "        self._age = x"
   ]
  },
  {
   "cell_type": "code",
   "execution_count": null,
   "id": "3149c6d2-f08d-49de-ba02-613f21a16b2a",
   "metadata": {},
   "outputs": [],
   "source": [
    "# Q5\n",
    "# the method in a derived class has the same name and the same number of arguments as the base class is known as method overriding.\n",
    "class Animal:\n",
    "   def sound(self):\n",
    "      print('Animal makes sound.')\n",
    "\n",
    "class Dog(Animal):\n",
    "   def sound(self):\n",
    "      print('Dog barks.')\n",
    "\n",
    "d = Dog()\n",
    "d.sound()"
   ]
  }
 ],
 "metadata": {
  "kernelspec": {
   "display_name": "Python 3 (ipykernel)",
   "language": "python",
   "name": "python3"
  },
  "language_info": {
   "codemirror_mode": {
    "name": "ipython",
    "version": 3
   },
   "file_extension": ".py",
   "mimetype": "text/x-python",
   "name": "python",
   "nbconvert_exporter": "python",
   "pygments_lexer": "ipython3",
   "version": "3.10.8"
  }
 },
 "nbformat": 4,
 "nbformat_minor": 5
}
